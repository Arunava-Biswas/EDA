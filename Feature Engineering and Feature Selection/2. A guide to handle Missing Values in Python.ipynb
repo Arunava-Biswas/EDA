{
 "cells": [
  {
   "cell_type": "markdown",
   "id": "134650af",
   "metadata": {},
   "source": [
    "### Handling Missing Values in Python\n",
    "\n",
    "<img src=\"https://i.imgur.com/68u0dD2.png\">"
   ]
  },
  {
   "cell_type": "markdown",
   "id": "43eba133",
   "metadata": {},
   "source": [
    "### Non Time Series Problem"
   ]
  },
  {
   "cell_type": "code",
   "execution_count": 1,
   "id": "3c797d19",
   "metadata": {},
   "outputs": [],
   "source": [
    "import pandas as pd\n",
    "import numpy as np\n",
    "\n",
    "import matplotlib.pyplot as plt\n",
    "%matplotlib inline\n",
    "import seaborn as sns\n",
    "\n",
    "from sklearn import preprocessing\n",
    "from sklearn.model_selection import train_test_split, cross_val_score, StratifiedKFold\n",
    "from sklearn.linear_model import LogisticRegression\n",
    "\n",
    "import missingno as msno"
   ]
  },
  {
   "cell_type": "code",
   "execution_count": 3,
   "id": "695e6d82",
   "metadata": {},
   "outputs": [],
   "source": [
    "# reading the train and test datasets\n",
    "\n",
    "train = pd.read_csv(\"F:\\\\Machine Learning\\\\INeuron_FSDS\\\\Practice EDA\\\\Dataset\\\\Titanic\\\\train.csv\")\n",
    "test = pd.read_csv(\"F:\\\\Machine Learning\\\\INeuron_FSDS\\\\Practice EDA\\\\Dataset\\\\Titanic\\\\test.csv\")"
   ]
  },
  {
   "cell_type": "code",
   "execution_count": 4,
   "id": "01bfa26b",
   "metadata": {},
   "outputs": [
    {
     "name": "stdout",
     "output_type": "stream",
     "text": [
      "Training data shape:  (891, 12)\n",
      "Test data shape:  (418, 11)\n"
     ]
    }
   ],
   "source": [
    "# checking the shape of each datasets\n",
    "\n",
    "print(\"Training data shape: \", train.shape)\n",
    "print(\"Test data shape: \", test.shape)"
   ]
  },
  {
   "cell_type": "code",
   "execution_count": 5,
   "id": "f0cf461f",
   "metadata": {},
   "outputs": [
    {
     "data": {
      "text/html": [
       "<div>\n",
       "<style scoped>\n",
       "    .dataframe tbody tr th:only-of-type {\n",
       "        vertical-align: middle;\n",
       "    }\n",
       "\n",
       "    .dataframe tbody tr th {\n",
       "        vertical-align: top;\n",
       "    }\n",
       "\n",
       "    .dataframe thead th {\n",
       "        text-align: right;\n",
       "    }\n",
       "</style>\n",
       "<table border=\"1\" class=\"dataframe\">\n",
       "  <thead>\n",
       "    <tr style=\"text-align: right;\">\n",
       "      <th></th>\n",
       "      <th>PassengerId</th>\n",
       "      <th>Survived</th>\n",
       "      <th>Pclass</th>\n",
       "      <th>Name</th>\n",
       "      <th>Sex</th>\n",
       "      <th>Age</th>\n",
       "      <th>SibSp</th>\n",
       "      <th>Parch</th>\n",
       "      <th>Ticket</th>\n",
       "      <th>Fare</th>\n",
       "      <th>Cabin</th>\n",
       "      <th>Embarked</th>\n",
       "    </tr>\n",
       "  </thead>\n",
       "  <tbody>\n",
       "    <tr>\n",
       "      <th>0</th>\n",
       "      <td>1</td>\n",
       "      <td>0</td>\n",
       "      <td>3</td>\n",
       "      <td>Braund, Mr. Owen Harris</td>\n",
       "      <td>male</td>\n",
       "      <td>22.0</td>\n",
       "      <td>1</td>\n",
       "      <td>0</td>\n",
       "      <td>A/5 21171</td>\n",
       "      <td>7.2500</td>\n",
       "      <td>NaN</td>\n",
       "      <td>S</td>\n",
       "    </tr>\n",
       "    <tr>\n",
       "      <th>1</th>\n",
       "      <td>2</td>\n",
       "      <td>1</td>\n",
       "      <td>1</td>\n",
       "      <td>Cumings, Mrs. John Bradley (Florence Briggs Th...</td>\n",
       "      <td>female</td>\n",
       "      <td>38.0</td>\n",
       "      <td>1</td>\n",
       "      <td>0</td>\n",
       "      <td>PC 17599</td>\n",
       "      <td>71.2833</td>\n",
       "      <td>C85</td>\n",
       "      <td>C</td>\n",
       "    </tr>\n",
       "    <tr>\n",
       "      <th>2</th>\n",
       "      <td>3</td>\n",
       "      <td>1</td>\n",
       "      <td>3</td>\n",
       "      <td>Heikkinen, Miss. Laina</td>\n",
       "      <td>female</td>\n",
       "      <td>26.0</td>\n",
       "      <td>0</td>\n",
       "      <td>0</td>\n",
       "      <td>STON/O2. 3101282</td>\n",
       "      <td>7.9250</td>\n",
       "      <td>NaN</td>\n",
       "      <td>S</td>\n",
       "    </tr>\n",
       "    <tr>\n",
       "      <th>3</th>\n",
       "      <td>4</td>\n",
       "      <td>1</td>\n",
       "      <td>1</td>\n",
       "      <td>Futrelle, Mrs. Jacques Heath (Lily May Peel)</td>\n",
       "      <td>female</td>\n",
       "      <td>35.0</td>\n",
       "      <td>1</td>\n",
       "      <td>0</td>\n",
       "      <td>113803</td>\n",
       "      <td>53.1000</td>\n",
       "      <td>C123</td>\n",
       "      <td>S</td>\n",
       "    </tr>\n",
       "    <tr>\n",
       "      <th>4</th>\n",
       "      <td>5</td>\n",
       "      <td>0</td>\n",
       "      <td>3</td>\n",
       "      <td>Allen, Mr. William Henry</td>\n",
       "      <td>male</td>\n",
       "      <td>35.0</td>\n",
       "      <td>0</td>\n",
       "      <td>0</td>\n",
       "      <td>373450</td>\n",
       "      <td>8.0500</td>\n",
       "      <td>NaN</td>\n",
       "      <td>S</td>\n",
       "    </tr>\n",
       "  </tbody>\n",
       "</table>\n",
       "</div>"
      ],
      "text/plain": [
       "   PassengerId  Survived  Pclass  \\\n",
       "0            1         0       3   \n",
       "1            2         1       1   \n",
       "2            3         1       3   \n",
       "3            4         1       1   \n",
       "4            5         0       3   \n",
       "\n",
       "                                                Name     Sex   Age  SibSp  \\\n",
       "0                            Braund, Mr. Owen Harris    male  22.0      1   \n",
       "1  Cumings, Mrs. John Bradley (Florence Briggs Th...  female  38.0      1   \n",
       "2                             Heikkinen, Miss. Laina  female  26.0      0   \n",
       "3       Futrelle, Mrs. Jacques Heath (Lily May Peel)  female  35.0      1   \n",
       "4                           Allen, Mr. William Henry    male  35.0      0   \n",
       "\n",
       "   Parch            Ticket     Fare Cabin Embarked  \n",
       "0      0         A/5 21171   7.2500   NaN        S  \n",
       "1      0          PC 17599  71.2833   C85        C  \n",
       "2      0  STON/O2. 3101282   7.9250   NaN        S  \n",
       "3      0            113803  53.1000  C123        S  \n",
       "4      0            373450   8.0500   NaN        S  "
      ]
     },
     "execution_count": 5,
     "metadata": {},
     "output_type": "execute_result"
    }
   ],
   "source": [
    "# Printing first few rows of the training dataset\n",
    "\n",
    "train.head()"
   ]
  },
  {
   "cell_type": "markdown",
   "id": "1671d2d0",
   "metadata": {},
   "source": [
    "**Examining the Target column**\n",
    "\n",
    "   - For each passenger in the test set, we need to create a model that predicts whether or not the passengers survived the sinking of the Titanic. Hence **`Survived`** is that target column in the dataset. Let's examine the Distribution of the target column."
   ]
  },
  {
   "cell_type": "code",
   "execution_count": 6,
   "id": "533b7d04",
   "metadata": {},
   "outputs": [
    {
     "data": {
      "text/plain": [
       "0    549\n",
       "1    342\n",
       "Name: Survived, dtype: int64"
      ]
     },
     "execution_count": 6,
     "metadata": {},
     "output_type": "execute_result"
    }
   ],
   "source": [
    "train['Survived'].value_counts()"
   ]
  },
  {
   "cell_type": "code",
   "execution_count": 7,
   "id": "1d381042",
   "metadata": {},
   "outputs": [
    {
     "data": {
      "image/png": "[encoded data removed]",
      "text/plain": [
       "<Figure size 432x288 with 1 Axes>"
      ]
     },
     "metadata": {
      "needs_background": "light"
     },
     "output_type": "display_data"
    }
   ],
   "source": [
    "# Visualise\n",
    "\n",
    "s = sns.countplot(x = 'Survived', data = train)\n",
    "\n",
    "sizes=[]\n",
    "\n",
    "for p in s.patches:\n",
    "    height = p.get_height()\n",
    "    sizes.append(height)\n",
    "    s.text(p.get_x()+p.get_width()/2.,\n",
    "            height + 3,\n",
    "            '{:1.2f}%'.format(height/len(train)*100),\n",
    "            ha=\"center\", fontsize=14) "
   ]
  },
  {
   "cell_type": "markdown",
   "id": "1d449d37",
   "metadata": {},
   "source": [
    "Here:\n",
    "\n",
    "- 0: Did not Survive while\n",
    "- 1: Survived.\n",
    "\n",
    "Clearly, less people survived the accident."
   ]
  },
  {
   "cell_type": "markdown",
   "id": "6d5e6327",
   "metadata": {},
   "source": [
    "**Detecting missing values numerically**\n",
    "\n",
    "- The first step is to detect the count/percentage of missing values in every column of the dataset. This will give an idea about the distribution of missing values."
   ]
  },
  {
   "cell_type": "code",
   "execution_count": 8,
   "id": "ab013a6b",
   "metadata": {},
   "outputs": [],
   "source": [
    "def missing_values_table(df):\n",
    "    \n",
    "        # Total missing values\n",
    "        mis_val = df.isnull().sum()\n",
    "        \n",
    "        # Percentage of missing values\n",
    "        mis_val_percent = 100 * df.isnull().sum() / len(df)\n",
    "        \n",
    "        # Make a table with the results\n",
    "        mis_val_table = pd.concat([mis_val, mis_val_percent], axis=1)\n",
    "        \n",
    "        # Rename the columns\n",
    "        mis_val_table_ren_columns = mis_val_table.rename(columns = {0 : 'Missing Values', 1 : '% of Total Values'})\n",
    "        \n",
    "        # Sort the table by percentage of missing descending\n",
    "        mis_val_table_ren_columns = mis_val_table_ren_columns[\n",
    "            mis_val_table_ren_columns.iloc[:,1] != 0].sort_values('% of Total Values', ascending=False).round(1)\n",
    "        \n",
    "        # Print some summary information\n",
    "        print (\"Your selected dataframe has \" + str(df.shape[1]) + \" columns.\\n\"      \n",
    "            \"There are \" + str(mis_val_table_ren_columns.shape[0]) + \" columns that have missing values.\")\n",
    "        \n",
    "        # Return the dataframe with missing information\n",
    "        return mis_val_table_ren_columns"
   ]
  },
  {
   "cell_type": "code",
   "execution_count": 9,
   "id": "82acffbd",
   "metadata": {},
   "outputs": [
    {
     "name": "stdout",
     "output_type": "stream",
     "text": [
      "Your selected dataframe has 12 columns.\n",
      "There are 3 columns that have missing values.\n"
     ]
    },
    {
     "data": {
      "text/html": [
       "<div>\n",
       "<style scoped>\n",
       "    .dataframe tbody tr th:only-of-type {\n",
       "        vertical-align: middle;\n",
       "    }\n",
       "\n",
       "    .dataframe tbody tr th {\n",
       "        vertical-align: top;\n",
       "    }\n",
       "\n",
       "    .dataframe thead th {\n",
       "        text-align: right;\n",
       "    }\n",
       "</style>\n",
       "<table border=\"1\" class=\"dataframe\">\n",
       "  <thead>\n",
       "    <tr style=\"text-align: right;\">\n",
       "      <th></th>\n",
       "      <th>Missing Values</th>\n",
       "      <th>% of Total Values</th>\n",
       "    </tr>\n",
       "  </thead>\n",
       "  <tbody>\n",
       "    <tr>\n",
       "      <th>Cabin</th>\n",
       "      <td>687</td>\n",
       "      <td>77.1</td>\n",
       "    </tr>\n",
       "    <tr>\n",
       "      <th>Age</th>\n",
       "      <td>177</td>\n",
       "      <td>19.9</td>\n",
       "    </tr>\n",
       "    <tr>\n",
       "      <th>Embarked</th>\n",
       "      <td>2</td>\n",
       "      <td>0.2</td>\n",
       "    </tr>\n",
       "  </tbody>\n",
       "</table>\n",
       "</div>"
      ],
      "text/plain": [
       "          Missing Values  % of Total Values\n",
       "Cabin                687               77.1\n",
       "Age                  177               19.9\n",
       "Embarked               2                0.2"
      ]
     },
     "execution_count": 9,
     "metadata": {},
     "output_type": "execute_result"
    }
   ],
   "source": [
    "train_missing = missing_values_table(train)\n",
    "train_missing"
   ]
  },
  {
   "cell_type": "code",
   "execution_count": 10,
   "id": "3348fbaa",
   "metadata": {},
   "outputs": [
    {
     "name": "stdout",
     "output_type": "stream",
     "text": [
      "Your selected dataframe has 11 columns.\n",
      "There are 3 columns that have missing values.\n"
     ]
    },
    {
     "data": {
      "text/html": [
       "<div>\n",
       "<style scoped>\n",
       "    .dataframe tbody tr th:only-of-type {\n",
       "        vertical-align: middle;\n",
       "    }\n",
       "\n",
       "    .dataframe tbody tr th {\n",
       "        vertical-align: top;\n",
       "    }\n",
       "\n",
       "    .dataframe thead th {\n",
       "        text-align: right;\n",
       "    }\n",
       "</style>\n",
       "<table border=\"1\" class=\"dataframe\">\n",
       "  <thead>\n",
       "    <tr style=\"text-align: right;\">\n",
       "      <th></th>\n",
       "      <th>Missing Values</th>\n",
       "      <th>% of Total Values</th>\n",
       "    </tr>\n",
       "  </thead>\n",
       "  <tbody>\n",
       "    <tr>\n",
       "      <th>Cabin</th>\n",
       "      <td>327</td>\n",
       "      <td>78.2</td>\n",
       "    </tr>\n",
       "    <tr>\n",
       "      <th>Age</th>\n",
       "      <td>86</td>\n",
       "      <td>20.6</td>\n",
       "    </tr>\n",
       "    <tr>\n",
       "      <th>Fare</th>\n",
       "      <td>1</td>\n",
       "      <td>0.2</td>\n",
       "    </tr>\n",
       "  </tbody>\n",
       "</table>\n",
       "</div>"
      ],
      "text/plain": [
       "       Missing Values  % of Total Values\n",
       "Cabin             327               78.2\n",
       "Age                86               20.6\n",
       "Fare                1                0.2"
      ]
     },
     "execution_count": 10,
     "metadata": {},
     "output_type": "execute_result"
    }
   ],
   "source": [
    "test_missing = missing_values_table(test)\n",
    "test_missing"
   ]
  },
  {
   "cell_type": "markdown",
   "id": "0ba0c1d9",
   "metadata": {},
   "source": [
    "**Note**\n",
    "\n",
    "- Both the train and test set have the same proportion of the missing values."
   ]
  },
  {
   "cell_type": "markdown",
   "id": "e4a3d102",
   "metadata": {},
   "source": [
    "**Detecting missing data visually using Missingno library**\n",
    "\n",
    "- To graphically analyse the missingness of the data, let's use a library called **`Missingno`**. It is a package for graphical analysis of missing values. To use this library, we need to import it as follows: `import missingno as msno`"
   ]
  },
  {
   "cell_type": "code",
   "execution_count": 11,
   "id": "4e55bfd9",
   "metadata": {},
   "outputs": [
    {
     "data": {
      "text/plain": [
       "<AxesSubplot:>"
      ]
     },
     "execution_count": 11,
     "metadata": {},
     "output_type": "execute_result"
    },
    {
     "data": {
      "image/png": "[encoded data removed]",
      "text/plain": [
       "<Figure size 1800x720 with 3 Axes>"
      ]
     },
     "metadata": {
      "needs_background": "light"
     },
     "output_type": "display_data"
    }
   ],
   "source": [
    "msno.bar(train)"
   ]
  },
  {
   "cell_type": "markdown",
   "id": "e445e9c6",
   "metadata": {},
   "source": [
    "The bar chart above gives a quick graphical overview of the completeness of the dataset. We can see that Age, Cabin and Embarked columns have missing values. Next,it would make sense to find out the locations of the missing data."
   ]
  },
  {
   "cell_type": "markdown",
   "id": "1c0fdd84",
   "metadata": {},
   "source": [
    "**Visualizing the locations of the missing data**\n",
    "\n",
    "- The `msno.matrix` nullity matrix is a data-dense display which lets you quickly visually pick out patterns in data completion."
   ]
  },
  {
   "cell_type": "code",
   "execution_count": 12,
   "id": "57a67629",
   "metadata": {},
   "outputs": [
    {
     "data": {
      "text/plain": [
       "<AxesSubplot:>"
      ]
     },
     "execution_count": 12,
     "metadata": {},
     "output_type": "execute_result"
    },
    {
     "data": {
      "image/png": "[encoded data removed]",
      "text/plain": [
       "<Figure size 1800x720 with 2 Axes>"
      ]
     },
     "metadata": {
      "needs_background": "light"
     },
     "output_type": "display_data"
    }
   ],
   "source": [
    "msno.matrix(train)"
   ]
  },
  {
   "cell_type": "markdown",
   "id": "2b70d0fc",
   "metadata": {},
   "source": [
    "The sparkline on the right gives an idea of the general shape of the completeness of the data and points out the row with the minimum nullities and the total number of columns in a given dataset, at the bottom."
   ]
  },
  {
   "cell_type": "code",
   "execution_count": 13,
   "id": "93fb90d1",
   "metadata": {},
   "outputs": [
    {
     "data": {
      "text/plain": [
       "<AxesSubplot:>"
      ]
     },
     "execution_count": 13,
     "metadata": {},
     "output_type": "execute_result"
    },
    {
     "data": {
      "image/png": "[encoded data removed]",
      "text/plain": [
       "<Figure size 1800x720 with 2 Axes>"
      ]
     },
     "metadata": {
      "needs_background": "light"
     },
     "output_type": "display_data"
    }
   ],
   "source": [
    "# It is also possible to sample the dataset to pinpoint the exact location of the missing values. \n",
    "# For instance let's check the first 100 rows.\n",
    "\n",
    "msno.matrix(train.sample(100))"
   ]
  },
  {
   "cell_type": "markdown",
   "id": "498c833e",
   "metadata": {},
   "source": [
    "- This shows that the Embarked column has no nullity in the first 100 cases."
   ]
  },
  {
   "cell_type": "markdown",
   "id": "09941e16",
   "metadata": {},
   "source": [
    "### Reasons for Missing Values\n",
    "\n",
    "- Before we start treating the missing values ,it is important to understand the various reasons for the missingness in data. Broadly speaking, there can be three possible reasons:\n",
    "\n",
    "<img src=\"https://cjasn.asnjournals.org/content/clinjasn/early/2014/02/06/CJN.10141013/F2.large.jpg?width=800&height=600&carousel=1\">"
   ]
  },
  {
   "cell_type": "markdown",
   "id": "cbf02ec5",
   "metadata": {},
   "source": [
    "1. **Missing Completely at Random (MCAR)**\n",
    "\n",
    "    - The missing values on a given variable (Y) are not associated with other variables in a given data set or with the variable (Y) itself. In other words, there is no particular reason for the missing values.\n",
    "\n",
    "\n",
    "2. **Missing at Random (MAR)**\n",
    "\n",
    "    - MAR occurs when the missingness is not random, but where missingness can be fully accounted for by variables where there is complete information.\n",
    "\n",
    "\n",
    "3. **Missing Not at Random (MNAR)**\n",
    "\n",
    "    - Missingness depends on unobserved data or the value of the missing data itself."
   ]
  },
  {
   "cell_type": "markdown",
   "id": "faecb10d",
   "metadata": {},
   "source": [
    "#### Finding reason for missing data using matrix plot:\n",
    "\n",
    "    - The Embarked Column has very few missing values and donot seem to be correlated with any other column, Hence, the missingness in Embarked column can be attributed as Missing Completely at Random.\n",
    "\n",
    "    - Both the Age and the Cabin columns have a lot of missing values.This could be a case of MAR as we cannot directly observe the reason for missingness of data in these columns."
   ]
  },
  {
   "cell_type": "code",
   "execution_count": 14,
   "id": "613f7bf8",
   "metadata": {},
   "outputs": [
    {
     "data": {
      "text/plain": [
       "<AxesSubplot:>"
      ]
     },
     "execution_count": 14,
     "metadata": {},
     "output_type": "execute_result"
    },
    {
     "data": {
      "image/png": "[encoded data removed]",
      "text/plain": [
       "<Figure size 1800x720 with 2 Axes>"
      ]
     },
     "metadata": {
      "needs_background": "light"
     },
     "output_type": "display_data"
    }
   ],
   "source": [
    "# The missingno package also let's us sort the graph by a particluar column. \n",
    "# Let's sort the values by Age and Cabin column to see if there is a pattern in the missing values\n",
    "\n",
    "sorted = train.sort_values('Age')\n",
    "msno.matrix(sorted)"
   ]
  },
  {
   "cell_type": "markdown",
   "id": "1da333ac",
   "metadata": {},
   "source": [
    "Hence it is clear that here is no relation between the missingness in Age and Cabin column.To cement this conclusion further we can also draw a Heatmap among the different variables in the dataset."
   ]
  },
  {
   "cell_type": "markdown",
   "id": "b46adf64",
   "metadata": {},
   "source": [
    "#### Finding reason for missing data using a Heatmap"
   ]
  },
  {
   "cell_type": "code",
   "execution_count": 15,
   "id": "1e1f60f5",
   "metadata": {},
   "outputs": [
    {
     "data": {
      "text/plain": [
       "<AxesSubplot:>"
      ]
     },
     "execution_count": 15,
     "metadata": {},
     "output_type": "execute_result"
    },
    {
     "data": {
      "image/png": "[encoded data removed]",
      "text/plain": [
       "<Figure size 1440x864 with 2 Axes>"
      ]
     },
     "metadata": {
      "needs_background": "light"
     },
     "output_type": "display_data"
    }
   ],
   "source": [
    "msno.heatmap(train)"
   ]
  },
  {
   "cell_type": "markdown",
   "id": "11bbba98",
   "metadata": {},
   "source": [
    "The heatmap function shows that there are no strong correlations between missing values of different features. This is good; low correlations further indicate that the data are MAR."
   ]
  },
  {
   "cell_type": "markdown",
   "id": "4ff28708",
   "metadata": {},
   "source": [
    "#### Finding reason for missing data using Dendrogram"
   ]
  },
  {
   "cell_type": "code",
   "execution_count": 16,
   "id": "cf40f860",
   "metadata": {},
   "outputs": [
    {
     "data": {
      "text/plain": [
       "<AxesSubplot:>"
      ]
     },
     "execution_count": 16,
     "metadata": {},
     "output_type": "execute_result"
    },
    {
     "data": {
      "image/png": "[encoded data removed]",
      "text/plain": [
       "<Figure size 1800x720 with 1 Axes>"
      ]
     },
     "metadata": {
      "needs_background": "light"
     },
     "output_type": "display_data"
    }
   ],
   "source": [
    "msno.dendrogram(train)"
   ]
  },
  {
   "cell_type": "markdown",
   "id": "18683c32",
   "metadata": {},
   "source": [
    "**Let's read the above dendrogram from a top-down perspective:**\n",
    "\n",
    "- Cluster leaves which linked together at a distance of zero fully predict one another's presence—one variable might always be empty when another is filled, or they might always both be filled or both empty, and so on(missingno documentation)\n",
    "\n",
    "- The missingness of Embarked tends to be more similar to Age than to Cabin and so on. However, in this particluar case, the correlation is high since Embarked column has a very few missing values."
   ]
  },
  {
   "cell_type": "markdown",
   "id": "3a3127fa",
   "metadata": {},
   "source": [
    "### Treating Missing values\n",
    "\n",
    "After having identified the patterns in missing values, it is important to treat them too. Here is a flowchart which could prove handy:\n",
    "\n",
    "<img src=\"https://i.imgur.com/tBvdfyX.png\">\n",
    "\n",
    "\n",
    "Deletion means to delete the missing values from a dataset. This is however not recommended as it might result in loss of information from the dataset. We should only delete the missing values from a dataset if their proportion is very small. Deletions are further of three types:"
   ]
  },
  {
   "cell_type": "markdown",
   "id": "5e5091ae",
   "metadata": {},
   "source": [
    "**Pairwise Deletion**\n",
    "\n",
    "Parwise Deletion is used when values are missing completely at random i.e MCAR. During Pairwise deletion, only the missing values are deleted. All operations in pandas like mean,sum etc intrinsically skip missing values."
   ]
  },
  {
   "cell_type": "code",
   "execution_count": 17,
   "id": "7e3d53cc",
   "metadata": {},
   "outputs": [
    {
     "data": {
      "text/plain": [
       "PassengerId      0\n",
       "Survived         0\n",
       "Pclass           0\n",
       "Name             0\n",
       "Sex              0\n",
       "Age            177\n",
       "SibSp            0\n",
       "Parch            0\n",
       "Ticket           0\n",
       "Fare             0\n",
       "Cabin          687\n",
       "Embarked         2\n",
       "dtype: int64"
      ]
     },
     "execution_count": 17,
     "metadata": {},
     "output_type": "execute_result"
    }
   ],
   "source": [
    "# Number of null values in each column\n",
    "\n",
    "train.isnull().sum()"
   ]
  },
  {
   "cell_type": "code",
   "execution_count": 18,
   "id": "12ca023d",
   "metadata": {},
   "outputs": [
    {
     "data": {
      "text/plain": [
       "29.69911764705882"
      ]
     },
     "execution_count": 18,
     "metadata": {},
     "output_type": "execute_result"
    }
   ],
   "source": [
    "# pandas skips the missing values and calculates mean of the remaining values.\n",
    "\n",
    "train_1 = train.copy()\n",
    "train_1['Age'].mean() "
   ]
  },
  {
   "cell_type": "markdown",
   "id": "4658943e",
   "metadata": {},
   "source": [
    "**Listwise Deletion/ Dropping rows**\n",
    "\n",
    "During Listwise deletion, complete rows(which contain the missing values) are deleted. As a result, it is also called Complete Case deletion. Like Pairwise deletion, listwise deletions are also only used for MCAR values."
   ]
  },
  {
   "cell_type": "code",
   "execution_count": 19,
   "id": "bf3fa8f2",
   "metadata": {},
   "outputs": [
    {
     "data": {
      "text/plain": [
       "0"
      ]
     },
     "execution_count": 19,
     "metadata": {},
     "output_type": "execute_result"
    }
   ],
   "source": [
    "#Drop rows which contains any NaN or missing value for Age column\n",
    "\n",
    "train_1.dropna(subset=['Age'],how='any',inplace=True)\n",
    "train_1['Age'].isnull().sum()"
   ]
  },
  {
   "cell_type": "markdown",
   "id": "c967df26",
   "metadata": {},
   "source": [
    "- A major diadvantage of Listwise deletion is that a major chunk of data and hence a lot of information is lost. Hence, it is advisable to use it only when the number of missing values is very small."
   ]
  },
  {
   "cell_type": "markdown",
   "id": "978c22c8",
   "metadata": {},
   "source": [
    "**Dropping complete columns**\n",
    "\n",
    "If a column contains a lot of missing values, say more than 80%, and the feature is not significant, you might want to delete that feature. However, again, it is not a good methodology to delete data."
   ]
  },
  {
   "cell_type": "markdown",
   "id": "b389fa88",
   "metadata": {},
   "source": [
    "#### Basic Imputation Techniques\n",
    "\n",
    "- Imputating with a constant value.\n",
    "\n",
    "- Imputation using the statistics (mean, median or most frequent) of each column in which the missing values are located\n",
    "\n",
    "\n",
    "For this we shall use the The `SimpleImputer` class from `sklearn`."
   ]
  },
  {
   "cell_type": "code",
   "execution_count": 20,
   "id": "70f5e196",
   "metadata": {},
   "outputs": [
    {
     "data": {
      "text/plain": [
       "PassengerId    0\n",
       "Survived       0\n",
       "Pclass         0\n",
       "Name           0\n",
       "Sex            0\n",
       "Age            0\n",
       "SibSp          0\n",
       "Parch          0\n",
       "Ticket         0\n",
       "Fare           0\n",
       "Cabin          0\n",
       "Embarked       0\n",
       "dtype: int64"
      ]
     },
     "execution_count": 20,
     "metadata": {},
     "output_type": "execute_result"
    }
   ],
   "source": [
    "# imputing with a constant\n",
    "\n",
    "from sklearn.impute import SimpleImputer\n",
    "train_constant = train.copy()\n",
    "\n",
    "#setting strategy to 'constant' i.e. imputing using constant value\n",
    "mean_imputer = SimpleImputer(strategy='constant')  \n",
    "train_constant.iloc[:,:] = mean_imputer.fit_transform(train_constant)\n",
    "train_constant.isnull().sum()"
   ]
  },
  {
   "cell_type": "code",
   "execution_count": 21,
   "id": "0cbabbf5",
   "metadata": {},
   "outputs": [],
   "source": [
    "from sklearn.impute import SimpleImputer\n",
    "train_most_frequent = train.copy()\n",
    "\n",
    "#setting strategy to 'mean' to impute by the mean\n",
    "# strategy can also be mean or median \n",
    "mean_imputer = SimpleImputer(strategy='most_frequent')\n",
    "train_most_frequent.iloc[:,:] = mean_imputer.fit_transform(train_most_frequent)"
   ]
  },
  {
   "cell_type": "code",
   "execution_count": 22,
   "id": "9a354242",
   "metadata": {},
   "outputs": [
    {
     "data": {
      "text/plain": [
       "PassengerId    0\n",
       "Survived       0\n",
       "Pclass         0\n",
       "Name           0\n",
       "Sex            0\n",
       "Age            0\n",
       "SibSp          0\n",
       "Parch          0\n",
       "Ticket         0\n",
       "Fare           0\n",
       "Cabin          0\n",
       "Embarked       0\n",
       "dtype: int64"
      ]
     },
     "execution_count": 22,
     "metadata": {},
     "output_type": "execute_result"
    }
   ],
   "source": [
    "# checking null values\n",
    "\n",
    "train_most_frequent.isnull().sum()"
   ]
  },
  {
   "cell_type": "markdown",
   "id": "6b059a8f",
   "metadata": {},
   "source": [
    "### Imputations Techniques for Time Series Problems"
   ]
  },
  {
   "cell_type": "markdown",
   "id": "f9447507",
   "metadata": {},
   "source": [
    "Now let's look at ways to impute data in a typical time series problem. Tackling missing values in time Series problem is a bit different. The `fillna()` method is used for imputing missing values in such problems.\n",
    "\n",
    "- Basic Imputation Techniques\n",
    "    - 'ffill' or 'pad' - Replace NaN s with last observed value\n",
    "    - 'bfill' or 'backfill' - Replace NaN s with next observed value\n",
    "    - Linear interpolation method"
   ]
  },
  {
   "cell_type": "code",
   "execution_count": 24,
   "id": "6aac039f",
   "metadata": {},
   "outputs": [
    {
     "data": {
      "text/html": [
       "<div>\n",
       "<style scoped>\n",
       "    .dataframe tbody tr th:only-of-type {\n",
       "        vertical-align: middle;\n",
       "    }\n",
       "\n",
       "    .dataframe tbody tr th {\n",
       "        vertical-align: top;\n",
       "    }\n",
       "\n",
       "    .dataframe thead th {\n",
       "        text-align: right;\n",
       "    }\n",
       "</style>\n",
       "<table border=\"1\" class=\"dataframe\">\n",
       "  <thead>\n",
       "    <tr style=\"text-align: right;\">\n",
       "      <th></th>\n",
       "      <th>City</th>\n",
       "      <th>PM2.5</th>\n",
       "      <th>PM10</th>\n",
       "      <th>NO</th>\n",
       "      <th>NO2</th>\n",
       "      <th>NOx</th>\n",
       "      <th>NH3</th>\n",
       "      <th>CO</th>\n",
       "      <th>SO2</th>\n",
       "      <th>O3</th>\n",
       "      <th>Benzene</th>\n",
       "      <th>Toluene</th>\n",
       "      <th>Xylene</th>\n",
       "      <th>AQI</th>\n",
       "      <th>AQI_Bucket</th>\n",
       "    </tr>\n",
       "    <tr>\n",
       "      <th>Date</th>\n",
       "      <th></th>\n",
       "      <th></th>\n",
       "      <th></th>\n",
       "      <th></th>\n",
       "      <th></th>\n",
       "      <th></th>\n",
       "      <th></th>\n",
       "      <th></th>\n",
       "      <th></th>\n",
       "      <th></th>\n",
       "      <th></th>\n",
       "      <th></th>\n",
       "      <th></th>\n",
       "      <th></th>\n",
       "      <th></th>\n",
       "    </tr>\n",
       "  </thead>\n",
       "  <tbody>\n",
       "    <tr>\n",
       "      <th>2015-01-01</th>\n",
       "      <td>Ahmedabad</td>\n",
       "      <td>NaN</td>\n",
       "      <td>NaN</td>\n",
       "      <td>0.92</td>\n",
       "      <td>18.22</td>\n",
       "      <td>17.15</td>\n",
       "      <td>NaN</td>\n",
       "      <td>0.92</td>\n",
       "      <td>27.64</td>\n",
       "      <td>133.36</td>\n",
       "      <td>0.00</td>\n",
       "      <td>0.02</td>\n",
       "      <td>0.00</td>\n",
       "      <td>NaN</td>\n",
       "      <td>NaN</td>\n",
       "    </tr>\n",
       "    <tr>\n",
       "      <th>2015-01-02</th>\n",
       "      <td>Ahmedabad</td>\n",
       "      <td>NaN</td>\n",
       "      <td>NaN</td>\n",
       "      <td>0.97</td>\n",
       "      <td>15.69</td>\n",
       "      <td>16.46</td>\n",
       "      <td>NaN</td>\n",
       "      <td>0.97</td>\n",
       "      <td>24.55</td>\n",
       "      <td>34.06</td>\n",
       "      <td>3.68</td>\n",
       "      <td>5.50</td>\n",
       "      <td>3.77</td>\n",
       "      <td>NaN</td>\n",
       "      <td>NaN</td>\n",
       "    </tr>\n",
       "    <tr>\n",
       "      <th>2015-01-03</th>\n",
       "      <td>Ahmedabad</td>\n",
       "      <td>NaN</td>\n",
       "      <td>NaN</td>\n",
       "      <td>17.40</td>\n",
       "      <td>19.30</td>\n",
       "      <td>29.70</td>\n",
       "      <td>NaN</td>\n",
       "      <td>17.40</td>\n",
       "      <td>29.07</td>\n",
       "      <td>30.70</td>\n",
       "      <td>6.80</td>\n",
       "      <td>16.40</td>\n",
       "      <td>2.25</td>\n",
       "      <td>NaN</td>\n",
       "      <td>NaN</td>\n",
       "    </tr>\n",
       "    <tr>\n",
       "      <th>2015-01-04</th>\n",
       "      <td>Ahmedabad</td>\n",
       "      <td>NaN</td>\n",
       "      <td>NaN</td>\n",
       "      <td>1.70</td>\n",
       "      <td>18.48</td>\n",
       "      <td>17.97</td>\n",
       "      <td>NaN</td>\n",
       "      <td>1.70</td>\n",
       "      <td>18.59</td>\n",
       "      <td>36.08</td>\n",
       "      <td>4.43</td>\n",
       "      <td>10.14</td>\n",
       "      <td>1.00</td>\n",
       "      <td>NaN</td>\n",
       "      <td>NaN</td>\n",
       "    </tr>\n",
       "    <tr>\n",
       "      <th>2015-01-05</th>\n",
       "      <td>Ahmedabad</td>\n",
       "      <td>NaN</td>\n",
       "      <td>NaN</td>\n",
       "      <td>22.10</td>\n",
       "      <td>21.42</td>\n",
       "      <td>37.76</td>\n",
       "      <td>NaN</td>\n",
       "      <td>22.10</td>\n",
       "      <td>39.33</td>\n",
       "      <td>39.31</td>\n",
       "      <td>7.01</td>\n",
       "      <td>18.89</td>\n",
       "      <td>2.78</td>\n",
       "      <td>NaN</td>\n",
       "      <td>NaN</td>\n",
       "    </tr>\n",
       "  </tbody>\n",
       "</table>\n",
       "</div>"
      ],
      "text/plain": [
       "                 City  PM2.5  PM10     NO    NO2    NOx  NH3     CO    SO2  \\\n",
       "Date                                                                         \n",
       "2015-01-01  Ahmedabad    NaN   NaN   0.92  18.22  17.15  NaN   0.92  27.64   \n",
       "2015-01-02  Ahmedabad    NaN   NaN   0.97  15.69  16.46  NaN   0.97  24.55   \n",
       "2015-01-03  Ahmedabad    NaN   NaN  17.40  19.30  29.70  NaN  17.40  29.07   \n",
       "2015-01-04  Ahmedabad    NaN   NaN   1.70  18.48  17.97  NaN   1.70  18.59   \n",
       "2015-01-05  Ahmedabad    NaN   NaN  22.10  21.42  37.76  NaN  22.10  39.33   \n",
       "\n",
       "                O3  Benzene  Toluene  Xylene  AQI AQI_Bucket  \n",
       "Date                                                          \n",
       "2015-01-01  133.36     0.00     0.02    0.00  NaN        NaN  \n",
       "2015-01-02   34.06     3.68     5.50    3.77  NaN        NaN  \n",
       "2015-01-03   30.70     6.80    16.40    2.25  NaN        NaN  \n",
       "2015-01-04   36.08     4.43    10.14    1.00  NaN        NaN  \n",
       "2015-01-05   39.31     7.01    18.89    2.78  NaN        NaN  "
      ]
     },
     "execution_count": 24,
     "metadata": {},
     "output_type": "execute_result"
    }
   ],
   "source": [
    "# reading the dataset\n",
    "\n",
    "city_day = pd.read_csv(\"F:\\\\Machine Learning\\\\INeuron_FSDS\\\\Practice EDA\\\\Dataset\\\\Titanic\\\\city_day.csv\",\n",
    "                       parse_dates=True,index_col='Date')\n",
    "\n",
    "city_day1=city_day.copy(deep=True)\n",
    "city_day.head()"
   ]
  },
  {
   "cell_type": "code",
   "execution_count": 25,
   "id": "ecc8fe33",
   "metadata": {},
   "outputs": [
    {
     "name": "stdout",
     "output_type": "stream",
     "text": [
      "Your selected dataframe has 15 columns.\n",
      "There are 14 columns that have missing values.\n"
     ]
    },
    {
     "data": {
      "text/html": [
       "<div>\n",
       "<style scoped>\n",
       "    .dataframe tbody tr th:only-of-type {\n",
       "        vertical-align: middle;\n",
       "    }\n",
       "\n",
       "    .dataframe tbody tr th {\n",
       "        vertical-align: top;\n",
       "    }\n",
       "\n",
       "    .dataframe thead th {\n",
       "        text-align: right;\n",
       "    }\n",
       "</style>\n",
       "<table border=\"1\" class=\"dataframe\">\n",
       "  <thead>\n",
       "    <tr style=\"text-align: right;\">\n",
       "      <th></th>\n",
       "      <th>Missing Values</th>\n",
       "      <th>% of Total Values</th>\n",
       "    </tr>\n",
       "  </thead>\n",
       "  <tbody>\n",
       "    <tr>\n",
       "      <th>Xylene</th>\n",
       "      <td>16989</td>\n",
       "      <td>60.3</td>\n",
       "    </tr>\n",
       "    <tr>\n",
       "      <th>PM10</th>\n",
       "      <td>11005</td>\n",
       "      <td>39.1</td>\n",
       "    </tr>\n",
       "    <tr>\n",
       "      <th>NH3</th>\n",
       "      <td>10121</td>\n",
       "      <td>35.9</td>\n",
       "    </tr>\n",
       "    <tr>\n",
       "      <th>Toluene</th>\n",
       "      <td>7715</td>\n",
       "      <td>27.4</td>\n",
       "    </tr>\n",
       "    <tr>\n",
       "      <th>Benzene</th>\n",
       "      <td>5386</td>\n",
       "      <td>19.1</td>\n",
       "    </tr>\n",
       "    <tr>\n",
       "      <th>AQI</th>\n",
       "      <td>4575</td>\n",
       "      <td>16.2</td>\n",
       "    </tr>\n",
       "    <tr>\n",
       "      <th>AQI_Bucket</th>\n",
       "      <td>4575</td>\n",
       "      <td>16.2</td>\n",
       "    </tr>\n",
       "    <tr>\n",
       "      <th>PM2.5</th>\n",
       "      <td>4552</td>\n",
       "      <td>16.2</td>\n",
       "    </tr>\n",
       "    <tr>\n",
       "      <th>NOx</th>\n",
       "      <td>4142</td>\n",
       "      <td>14.7</td>\n",
       "    </tr>\n",
       "    <tr>\n",
       "      <th>O3</th>\n",
       "      <td>3888</td>\n",
       "      <td>13.8</td>\n",
       "    </tr>\n",
       "    <tr>\n",
       "      <th>SO2</th>\n",
       "      <td>3798</td>\n",
       "      <td>13.5</td>\n",
       "    </tr>\n",
       "    <tr>\n",
       "      <th>NO2</th>\n",
       "      <td>3465</td>\n",
       "      <td>12.3</td>\n",
       "    </tr>\n",
       "    <tr>\n",
       "      <th>NO</th>\n",
       "      <td>3459</td>\n",
       "      <td>12.3</td>\n",
       "    </tr>\n",
       "    <tr>\n",
       "      <th>CO</th>\n",
       "      <td>2020</td>\n",
       "      <td>7.2</td>\n",
       "    </tr>\n",
       "  </tbody>\n",
       "</table>\n",
       "</div>"
      ],
      "text/plain": [
       "            Missing Values  % of Total Values\n",
       "Xylene               16989               60.3\n",
       "PM10                 11005               39.1\n",
       "NH3                  10121               35.9\n",
       "Toluene               7715               27.4\n",
       "Benzene               5386               19.1\n",
       "AQI                   4575               16.2\n",
       "AQI_Bucket            4575               16.2\n",
       "PM2.5                 4552               16.2\n",
       "NOx                   4142               14.7\n",
       "O3                    3888               13.8\n",
       "SO2                   3798               13.5\n",
       "NO2                   3465               12.3\n",
       "NO                    3459               12.3\n",
       "CO                    2020                7.2"
      ]
     },
     "execution_count": 25,
     "metadata": {},
     "output_type": "execute_result"
    }
   ],
   "source": [
    "#Missing Values\n",
    "\n",
    "city_day_missing = missing_values_table(city_day)\n",
    "city_day_missing"
   ]
  },
  {
   "cell_type": "markdown",
   "id": "dca7b3c1",
   "metadata": {},
   "source": [
    "There are a lot of missing values and some of the columns like Xylene and PM10 have more than 50% of the values missing. Let's now see how we can impute these missing values."
   ]
  },
  {
   "cell_type": "code",
   "execution_count": 26,
   "id": "357c62ac",
   "metadata": {},
   "outputs": [
    {
     "data": {
      "text/plain": [
       "Date\n",
       "2015-02-20     7.48\n",
       "2015-02-21    15.44\n",
       "2015-02-22     8.47\n",
       "2015-02-23    28.46\n",
       "2015-02-24     6.05\n",
       "2015-02-25     0.81\n",
       "2015-02-26      NaN\n",
       "2015-02-27      NaN\n",
       "2015-02-28      NaN\n",
       "2015-03-01     1.32\n",
       "2015-03-02     0.22\n",
       "2015-03-03     2.25\n",
       "2015-03-04     1.55\n",
       "2015-03-05     4.13\n",
       "Name: Xylene, dtype: float64"
      ]
     },
     "execution_count": 26,
     "metadata": {},
     "output_type": "execute_result"
    }
   ],
   "source": [
    "# Imputation using ffill/pad\n",
    "# Imputing Xylene value\n",
    "\n",
    "city_day['Xylene'][50:64]"
   ]
  },
  {
   "cell_type": "markdown",
   "id": "ba201922",
   "metadata": {},
   "source": [
    "Above we see, there are 3 missing values in the Xylene column."
   ]
  },
  {
   "cell_type": "markdown",
   "id": "bf12949f",
   "metadata": {},
   "source": [
    "**Imputing using ffill**"
   ]
  },
  {
   "cell_type": "code",
   "execution_count": 27,
   "id": "3bda1287",
   "metadata": {},
   "outputs": [
    {
     "data": {
      "text/plain": [
       "Date\n",
       "2015-02-20     7.48\n",
       "2015-02-21    15.44\n",
       "2015-02-22     8.47\n",
       "2015-02-23    28.46\n",
       "2015-02-24     6.05\n",
       "2015-02-25     0.81\n",
       "2015-02-26     0.81\n",
       "2015-02-27     0.81\n",
       "2015-02-28     0.81\n",
       "2015-03-01     1.32\n",
       "2015-03-02     0.22\n",
       "2015-03-03     2.25\n",
       "2015-03-04     1.55\n",
       "2015-03-05     4.13\n",
       "2015-03-06     4.13\n",
       "Name: Xylene, dtype: float64"
      ]
     },
     "execution_count": 27,
     "metadata": {},
     "output_type": "execute_result"
    }
   ],
   "source": [
    "city_day.fillna(method='ffill',inplace=True)\n",
    "city_day['Xylene'][50:65]"
   ]
  },
  {
   "cell_type": "markdown",
   "id": "026c00e7",
   "metadata": {},
   "source": [
    "We can see that all missing values have been filled with the last observed values."
   ]
  },
  {
   "cell_type": "markdown",
   "id": "62d02a8d",
   "metadata": {},
   "source": [
    "**Imputing using bfill**"
   ]
  },
  {
   "cell_type": "code",
   "execution_count": 28,
   "id": "b551d7e9",
   "metadata": {},
   "outputs": [
    {
     "data": {
      "text/plain": [
       "Date\n",
       "2015-01-21      NaN\n",
       "2015-01-22      NaN\n",
       "2015-01-23      NaN\n",
       "2015-01-24      NaN\n",
       "2015-01-25      NaN\n",
       "2015-01-26      NaN\n",
       "2015-01-27      NaN\n",
       "2015-01-28      NaN\n",
       "2015-01-29    209.0\n",
       "2015-01-30    328.0\n",
       "Name: AQI, dtype: float64"
      ]
     },
     "execution_count": 28,
     "metadata": {},
     "output_type": "execute_result"
    }
   ],
   "source": [
    "# Imputing AQI value\n",
    "\n",
    "city_day['AQI'][20:30]"
   ]
  },
  {
   "cell_type": "code",
   "execution_count": 29,
   "id": "13484db9",
   "metadata": {},
   "outputs": [
    {
     "data": {
      "text/plain": [
       "Date\n",
       "2015-01-21    209.0\n",
       "2015-01-22    209.0\n",
       "2015-01-23    209.0\n",
       "2015-01-24    209.0\n",
       "2015-01-25    209.0\n",
       "2015-01-26    209.0\n",
       "2015-01-27    209.0\n",
       "2015-01-28    209.0\n",
       "2015-01-29    209.0\n",
       "2015-01-30    328.0\n",
       "Name: AQI, dtype: float64"
      ]
     },
     "execution_count": 29,
     "metadata": {},
     "output_type": "execute_result"
    }
   ],
   "source": [
    "city_day.fillna(method='bfill',inplace=True)\n",
    "city_day['AQI'][20:30]"
   ]
  },
  {
   "cell_type": "markdown",
   "id": "b52ad042",
   "metadata": {},
   "source": [
    "We can see that all missing values have been filled with the next observed values."
   ]
  },
  {
   "cell_type": "markdown",
   "id": "a82b8a9b",
   "metadata": {},
   "source": [
    "**Imputation using Linear Interpolation method**\n",
    "\n",
    "- Time series data has a lot of variations against time. Hence, imputing using backfill and forward fill isn't the ebst possible solution to address the missing value problem. A more apt alternative would be to use interpolation methods, where the values are filled with incrementing or decrementing values.\n",
    "\n",
    "\n",
    "- Linear interpolation is an imputation technique that assumes a linear relationship between data points and utilises non-missing values from adjacent data points to compute a value for a missing data point."
   ]
  },
  {
   "cell_type": "code",
   "execution_count": 30,
   "id": "c6078a44",
   "metadata": {},
   "outputs": [
    {
     "data": {
      "text/plain": [
       "Date\n",
       "2015-02-20     7.48\n",
       "2015-02-21    15.44\n",
       "2015-02-22     8.47\n",
       "2015-02-23    28.46\n",
       "2015-02-24     6.05\n",
       "2015-02-25     0.81\n",
       "2015-02-26      NaN\n",
       "2015-02-27      NaN\n",
       "2015-02-28      NaN\n",
       "2015-03-01     1.32\n",
       "2015-03-02     0.22\n",
       "2015-03-03     2.25\n",
       "2015-03-04     1.55\n",
       "2015-03-05     4.13\n",
       "2015-03-06      NaN\n",
       "Name: Xylene, dtype: float64"
      ]
     },
     "execution_count": 30,
     "metadata": {},
     "output_type": "execute_result"
    }
   ],
   "source": [
    "city_day1['Xylene'][50:65]"
   ]
  },
  {
   "cell_type": "code",
   "execution_count": 31,
   "id": "c9f3d2a1",
   "metadata": {},
   "outputs": [
    {
     "data": {
      "text/plain": [
       "Date\n",
       "2015-02-20     7.4800\n",
       "2015-02-21    15.4400\n",
       "2015-02-22     8.4700\n",
       "2015-02-23    28.4600\n",
       "2015-02-24     6.0500\n",
       "2015-02-25     0.8100\n",
       "2015-02-26     0.9375\n",
       "2015-02-27     1.0650\n",
       "2015-02-28     1.1925\n",
       "2015-03-01     1.3200\n",
       "2015-03-02     0.2200\n",
       "2015-03-03     2.2500\n",
       "2015-03-04     1.5500\n",
       "2015-03-05     4.1300\n",
       "2015-03-06     2.2600\n",
       "Name: Xylene, dtype: float64"
      ]
     },
     "execution_count": 31,
     "metadata": {},
     "output_type": "execute_result"
    }
   ],
   "source": [
    "# Interpolate using the linear method\n",
    "\n",
    "\n",
    "city_day1.interpolate(limit_direction=\"both\",inplace=True)\n",
    "city_day1['Xylene'][50:65]"
   ]
  },
  {
   "cell_type": "markdown",
   "id": "a75ba3c7",
   "metadata": {},
   "source": [
    "#### Advanced Imputation Techniques\n",
    "\n",
    "- Advanced imputation techniques uses machine learning algorithms to impute the missing values in a dataset unlike the previous techniques where we used other column values to predict the missing values. \n",
    "\n",
    "**K-Nearest Neighbor Imputation**\n",
    "\n",
    "- The KNNImputer class provides imputation for filling in missing values using the k-Nearest Neighbors approach.Each missing feature is imputed using values from n_neighbors nearest neighbors that have a value for the feature. The feature of the neighbors are averaged uniformly or weighted by distance to each neighbor.\n",
    "\n",
    "\n",
    "**Multivariate feature imputation - Multivariate imputation by chained equations (MICE)**\n",
    "\n",
    "- A strategy for imputing missing values by modeling each feature with missing values as a function of other features in a round-robin fashion. It performns multiple regressions over random sample ofthe data, then takes the average ofthe multiple regression values and uses that value to impute the missing value. "
   ]
  },
  {
   "cell_type": "code",
   "execution_count": 32,
   "id": "81c94051",
   "metadata": {},
   "outputs": [],
   "source": [
    "# KNN\n",
    "\n",
    "train_knn = train.copy(deep=True)"
   ]
  },
  {
   "cell_type": "code",
   "execution_count": 33,
   "id": "ee5014b8",
   "metadata": {},
   "outputs": [],
   "source": [
    "from sklearn.impute import KNNImputer\n",
    "train_knn = train.copy(deep=True)\n",
    "\n",
    "knn_imputer = KNNImputer(n_neighbors=2, weights=\"uniform\")\n",
    "train_knn['Age'] = knn_imputer.fit_transform(train_knn[['Age']])"
   ]
  },
  {
   "cell_type": "code",
   "execution_count": 34,
   "id": "bc61dca0",
   "metadata": {},
   "outputs": [
    {
     "data": {
      "text/plain": [
       "0"
      ]
     },
     "execution_count": 34,
     "metadata": {},
     "output_type": "execute_result"
    }
   ],
   "source": [
    "train_knn['Age'].isnull().sum()"
   ]
  },
  {
   "cell_type": "code",
   "execution_count": 35,
   "id": "390df8dd",
   "metadata": {},
   "outputs": [],
   "source": [
    "# MICE\n",
    "\n",
    "from sklearn.experimental import enable_iterative_imputer\n",
    "from sklearn.impute import IterativeImputer\n",
    "train_mice = train.copy(deep=True)\n",
    "\n",
    "mice_imputer = IterativeImputer()\n",
    "train_mice['Age'] = mice_imputer.fit_transform(train_mice[['Age']])"
   ]
  },
  {
   "cell_type": "code",
   "execution_count": 36,
   "id": "06b6b37e",
   "metadata": {},
   "outputs": [
    {
     "data": {
      "text/plain": [
       "0"
      ]
     },
     "execution_count": 36,
     "metadata": {},
     "output_type": "execute_result"
    }
   ],
   "source": [
    "train_mice['Age'].isnull().sum()"
   ]
  },
  {
   "cell_type": "markdown",
   "id": "127c1444",
   "metadata": {},
   "source": [
    "Some algprithms like **XGBoost** and **LightGBM** can handle missing values without any preprocessing, by supplying relevant parameters."
   ]
  },
  {
   "cell_type": "code",
   "execution_count": null,
   "id": "d4ed02fd",
   "metadata": {},
   "outputs": [],
   "source": []
  }
 ],
 "metadata": {
  "kernelspec": {
   "display_name": "Python 3 (ipykernel)",
   "language": "python",
   "name": "python3"
  },
  "language_info": {
   "codemirror_mode": {
    "name": "ipython",
    "version": 3
   },
   "file_extension": ".py",
   "mimetype": "text/x-python",
   "name": "python",
   "nbconvert_exporter": "python",
   "pygments_lexer": "ipython3",
   "version": "3.9.13"
  }
 },
 "nbformat": 4,
 "nbformat_minor": 5
}
